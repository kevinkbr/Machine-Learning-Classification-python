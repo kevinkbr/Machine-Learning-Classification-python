{
 "cells": [
  {
   "cell_type": "markdown",
   "id": "bcfc439e",
   "metadata": {},
   "source": [
    "# Classification Model"
   ]
  },
  {
   "cell_type": "code",
   "execution_count": 1,
   "id": "cffb1a99",
   "metadata": {
    "scrolled": true
   },
   "outputs": [
    {
     "data": {
      "text/html": [
       "<div>\n",
       "<style scoped>\n",
       "    .dataframe tbody tr th:only-of-type {\n",
       "        vertical-align: middle;\n",
       "    }\n",
       "\n",
       "    .dataframe tbody tr th {\n",
       "        vertical-align: top;\n",
       "    }\n",
       "\n",
       "    .dataframe thead th {\n",
       "        text-align: right;\n",
       "    }\n",
       "</style>\n",
       "<table border=\"1\" class=\"dataframe\">\n",
       "  <thead>\n",
       "    <tr style=\"text-align: right;\">\n",
       "      <th></th>\n",
       "      <th>CROSS_SELL_SUCCESS</th>\n",
       "      <th>EMAIL</th>\n",
       "      <th>REVENUE</th>\n",
       "      <th>TOTAL_MEALS_ORDERED</th>\n",
       "      <th>UNIQUE_MEALS_PURCH</th>\n",
       "      <th>CONTACTS_W_CUSTOMER_SERVICE</th>\n",
       "      <th>PRODUCT_CATEGORIES_VIEWED</th>\n",
       "      <th>AVG_TIME_PER_SITE_VISIT</th>\n",
       "      <th>CANCELLATIONS_AFTER_NOON</th>\n",
       "      <th>PC_LOGINS</th>\n",
       "      <th>MOBILE_LOGINS</th>\n",
       "      <th>WEEKLY_PLAN</th>\n",
       "      <th>LATE_DELIVERIES</th>\n",
       "      <th>AVG_PREP_VID_TIME</th>\n",
       "      <th>LARGEST_ORDER_SIZE</th>\n",
       "      <th>AVG_MEAN_RATING</th>\n",
       "      <th>TOTAL_PHOTOS_VIEWED</th>\n",
       "    </tr>\n",
       "  </thead>\n",
       "  <tbody>\n",
       "    <tr>\n",
       "      <th>0</th>\n",
       "      <td>1</td>\n",
       "      <td>steffon.baratheon@yahoo.com</td>\n",
       "      <td>4920.0</td>\n",
       "      <td>493</td>\n",
       "      <td>9</td>\n",
       "      <td>1</td>\n",
       "      <td>10</td>\n",
       "      <td>265.6</td>\n",
       "      <td>5</td>\n",
       "      <td>5</td>\n",
       "      <td>2</td>\n",
       "      <td>0</td>\n",
       "      <td>0</td>\n",
       "      <td>137.41</td>\n",
       "      <td>6</td>\n",
       "      <td>2.894737</td>\n",
       "      <td>456</td>\n",
       "    </tr>\n",
       "    <tr>\n",
       "      <th>1</th>\n",
       "      <td>0</td>\n",
       "      <td>harlon.greyjoy@visa.com</td>\n",
       "      <td>6150.0</td>\n",
       "      <td>361</td>\n",
       "      <td>9</td>\n",
       "      <td>1</td>\n",
       "      <td>6</td>\n",
       "      <td>247.0</td>\n",
       "      <td>2</td>\n",
       "      <td>5</td>\n",
       "      <td>1</td>\n",
       "      <td>0</td>\n",
       "      <td>0</td>\n",
       "      <td>120.20</td>\n",
       "      <td>5</td>\n",
       "      <td>2.631579</td>\n",
       "      <td>680</td>\n",
       "    </tr>\n",
       "    <tr>\n",
       "      <th>2</th>\n",
       "      <td>0</td>\n",
       "      <td>monster@protonmail.com</td>\n",
       "      <td>3435.0</td>\n",
       "      <td>278</td>\n",
       "      <td>6</td>\n",
       "      <td>1</td>\n",
       "      <td>4</td>\n",
       "      <td>164.4</td>\n",
       "      <td>0</td>\n",
       "      <td>6</td>\n",
       "      <td>1</td>\n",
       "      <td>5</td>\n",
       "      <td>0</td>\n",
       "      <td>127.00</td>\n",
       "      <td>3</td>\n",
       "      <td>3.684211</td>\n",
       "      <td>145</td>\n",
       "    </tr>\n",
       "    <tr>\n",
       "      <th>3</th>\n",
       "      <td>1</td>\n",
       "      <td>damon.lannister.(lord)@yahoo.com</td>\n",
       "      <td>3330.0</td>\n",
       "      <td>269</td>\n",
       "      <td>8</td>\n",
       "      <td>1</td>\n",
       "      <td>2</td>\n",
       "      <td>176.0</td>\n",
       "      <td>5</td>\n",
       "      <td>5</td>\n",
       "      <td>2</td>\n",
       "      <td>0</td>\n",
       "      <td>0</td>\n",
       "      <td>129.78</td>\n",
       "      <td>6</td>\n",
       "      <td>3.157895</td>\n",
       "      <td>418</td>\n",
       "    </tr>\n",
       "    <tr>\n",
       "      <th>4</th>\n",
       "      <td>1</td>\n",
       "      <td>raynald.westerling@jnj.com</td>\n",
       "      <td>3427.5</td>\n",
       "      <td>276</td>\n",
       "      <td>7</td>\n",
       "      <td>1</td>\n",
       "      <td>10</td>\n",
       "      <td>164.6</td>\n",
       "      <td>0</td>\n",
       "      <td>6</td>\n",
       "      <td>1</td>\n",
       "      <td>14</td>\n",
       "      <td>0</td>\n",
       "      <td>34.42</td>\n",
       "      <td>3</td>\n",
       "      <td>3.157895</td>\n",
       "      <td>174</td>\n",
       "    </tr>\n",
       "  </tbody>\n",
       "</table>\n",
       "</div>"
      ],
      "text/plain": [
       "   CROSS_SELL_SUCCESS                             EMAIL  REVENUE  TOTAL_MEALS_ORDERED  UNIQUE_MEALS_PURCH  CONTACTS_W_CUSTOMER_SERVICE  PRODUCT_CATEGORIES_VIEWED  AVG_TIME_PER_SITE_VISIT  CANCELLATIONS_AFTER_NOON  PC_LOGINS  MOBILE_LOGINS  WEEKLY_PLAN  LATE_DELIVERIES   AVG_PREP_VID_TIME  LARGEST_ORDER_SIZE  AVG_MEAN_RATING  TOTAL_PHOTOS_VIEWED\n",
       "0                   1       steffon.baratheon@yahoo.com   4920.0                  493                   9                            1                         10                    265.6                         5          5              2            0                 0             137.41                   6         2.894737                  456\n",
       "1                   0           harlon.greyjoy@visa.com   6150.0                  361                   9                            1                          6                    247.0                         2          5              1            0                 0             120.20                   5         2.631579                  680\n",
       "2                   0            monster@protonmail.com   3435.0                  278                   6                            1                          4                    164.4                         0          6              1            5                 0             127.00                   3         3.684211                  145\n",
       "3                   1  damon.lannister.(lord)@yahoo.com   3330.0                  269                   8                            1                          2                    176.0                         5          5              2            0                 0             129.78                   6         3.157895                  418\n",
       "4                   1        raynald.westerling@jnj.com   3427.5                  276                   7                            1                         10                    164.6                         0          6              1           14                 0              34.42                   3         3.157895                  174"
      ]
     },
     "execution_count": 1,
     "metadata": {},
     "output_type": "execute_result"
    }
   ],
   "source": [
    "# importing libraries\n",
    "import pandas            as pd                       # data science essentials\n",
    "import matplotlib.pyplot as plt                      # data visualization\n",
    "import seaborn           as sns                      # enhanced data viz\n",
    "from sklearn.model_selection import train_test_split # train-test split\n",
    "from sklearn.linear_model import LogisticRegression  # logistic regression\n",
    "import statsmodels.formula.api as smf                # logistic regression\n",
    "from sklearn.metrics import confusion_matrix         # confusion matrix\n",
    "from sklearn.metrics import roc_auc_score            # auc score\n",
    "from sklearn.neighbors import KNeighborsClassifier   # KNN for classification\n",
    "from sklearn.neighbors import KNeighborsRegressor    # KNN for regression\n",
    "from sklearn.preprocessing import StandardScaler     # standard scaler\n",
    "from sklearn.tree import DecisionTreeClassifier      # classification trees\n",
    "from sklearn.tree import plot_tree# tree plots\n",
    "from sklearn.ensemble import RandomForestClassifier #Random Forest model\n",
    "from sklearn.ensemble import GradientBoostingClassifier # GBM model\n",
    "\n",
    "# loading data\n",
    "\n",
    "file = \"./dataset/Cross_Sell_Success_Dataset_2023.xlsx\"\n",
    "\n",
    "cssd = pd.read_excel(io = file)\n",
    "\n",
    "# setting pandas print options\n",
    "pd.set_option('display.max_rows', 500)\n",
    "pd.set_option('display.max_columns', 500)\n",
    "pd.set_option('display.width', 1000)\n",
    "pd.set_option('display.max_colwidth', 100)\n",
    "\n",
    "\n",
    "# displaying the head of the dataset\n",
    "cssd.head(n = 5)"
   ]
  },
  {
   "cell_type": "markdown",
   "id": "e7bbe4fd",
   "metadata": {},
   "source": [
    "## User-defined functions"
   ]
  },
  {
   "cell_type": "markdown",
   "id": "2c355497",
   "metadata": {},
   "source": [
    "In the following section, we will create several custom functions that will aid our analysis."
   ]
  },
  {
   "cell_type": "code",
   "execution_count": 2,
   "id": "883bdb5e",
   "metadata": {},
   "outputs": [],
   "source": [
    "########################################\n",
    "# visual_cm\n",
    "########################################\n",
    "def visual_cm(true_y, pred_y, labels = None):\n",
    "    \"\"\"\n",
    "Creates a visualization of a confusion matrix.\n",
    "\n",
    "PARAMETERS\n",
    "----------\n",
    "true_y : true values for the response variable\n",
    "pred_y : predicted values for the response variable\n",
    "labels : , default None\n",
    "    \"\"\"\n",
    "    # visualizing the confusion matrix\n",
    "\n",
    "    # setting labels\n",
    "    lbls = labels\n",
    "    \n",
    "\n",
    "    # declaring a confusion matrix object\n",
    "    cm = confusion_matrix(y_true = true_y,\n",
    "                          y_pred = pred_y)\n",
    "\n",
    "\n",
    "    # bulding heatmap\n",
    "    sns.heatmap(cm,\n",
    "                annot       = True,\n",
    "                xticklabels = lbls,\n",
    "                yticklabels = lbls,\n",
    "                cmap        = 'Blues',\n",
    "                fmt         = 'g')\n",
    "\n",
    "\n",
    "    plt.xlabel('Predicted')\n",
    "    plt.ylabel('Actual')\n",
    "    plt.title('Confusion Matrix of the Classifier')\n",
    "    plt.show()\n",
    "\n",
    "    \n",
    "#distribution function to anaylyse variable distribution\n",
    "def distributions(variable, data, bins = 'fd', kde = False, rug = False):\n",
    "    \"\"\"\n",
    "    This function can be used for continuous or count variables.\n",
    "\n",
    "    PARAMETERS\n",
    "    ----------\n",
    "    variable : str, continuous or count variable\n",
    "    data     : DataFrame\n",
    "    bins     : argument for matplotlib hist(), optional. If unspecified, Freedman–Diaconis rule is used.\n",
    "    kde      : bool, optional, plot or not a kernel density estimate.  If unspecified, not calculated.\n",
    "    rug      : bool, optional, include a rug on plot or not. If unspecified, not shown.\n",
    "    \"\"\"\n",
    "    \n",
    "    sns.distplot(data[variable],  \n",
    "                    bins  = bins,\n",
    "                    kde   = False,\n",
    "                    rug   = rug)\n",
    "    \n",
    "    plt.xlabel(variable)\n",
    "    plt.tight_layout()\n",
    "    plt.show()"
   ]
  },
  {
   "cell_type": "code",
   "execution_count": null,
   "id": "cfd91804",
   "metadata": {},
   "outputs": [],
   "source": [
    "#checking if there is missing value\n",
    "cssd.isnull().any().any()"
   ]
  },
  {
   "cell_type": "markdown",
   "id": "10ab73f0",
   "metadata": {},
   "source": [
    "No missing value in our dataset"
   ]
  },
  {
   "cell_type": "code",
   "execution_count": null,
   "id": "c88a7481",
   "metadata": {},
   "outputs": [],
   "source": [
    "# storing data dictionary\n",
    "cssd_description = pd.read_excel('./dataset/Apprentice_Chef_Data_Dictionary.xlsx')\n",
    "\n",
    "\n",
    "# data dictionary\n",
    "cssd_description"
   ]
  },
  {
   "cell_type": "markdown",
   "id": "c6c41622",
   "metadata": {},
   "source": [
    "Since our target variable is binary, it is crucial to ensure that the number of successful and unsuccessful outcomes is balanced in our sample to avoid any bias in our analysis."
   ]
  },
  {
   "cell_type": "code",
   "execution_count": 4,
   "id": "a00778c1",
   "metadata": {},
   "outputs": [
    {
     "data": {
      "text/plain": [
       "1    1321\n",
       "0     625\n",
       "Name: CROSS_SELL_SUCCESS, dtype: int64"
      ]
     },
     "execution_count": 4,
     "metadata": {},
     "output_type": "execute_result"
    }
   ],
   "source": [
    "cssd['CROSS_SELL_SUCCESS'].value_counts()"
   ]
  },
  {
   "cell_type": "markdown",
   "id": "46fa7f61",
   "metadata": {},
   "source": [
    "Our response variable sample size is large enough.\n",
    "To guarantee that our model has equal representation of successful and unsuccessful outcomes in both training and testing, we will employ stratification methods when splitting the dataset."
   ]
  },
  {
   "cell_type": "code",
   "execution_count": 5,
   "id": "6bbb694e",
   "metadata": {},
   "outputs": [
    {
     "name": "stdout",
     "output_type": "stream",
     "text": [
      "count of cancellation that subscribe: 974\n",
      "count of cancellation that did not subscribe: 400\n"
     ]
    }
   ],
   "source": [
    "# Analysis of Cancellations After Noon feature\n",
    "# count of cancellations after noon that subscribe to new service\n",
    "check = cssd.loc[:,'CANCELLATIONS_AFTER_NOON'][cssd.loc[:,'CROSS_SELL_SUCCESS'] == 1]\\\n",
    "                                                     [cssd.loc[:,'CANCELLATIONS_AFTER_NOON'] > 0]\n",
    "\n",
    "# count of cancellations after noon that did not subscribe to new service\n",
    "check2 = cssd.loc[:,'CANCELLATIONS_AFTER_NOON'][cssd.loc[:,'CROSS_SELL_SUCCESS'] == 0]\\\n",
    "                                                   [cssd.loc[:,'CANCELLATIONS_AFTER_NOON'] > 0]\n",
    "print('count of cancellation that subscribe:', len(check))\n",
    "print('count of cancellation that did not subscribe:', len(check2))"
   ]
  },
  {
   "cell_type": "code",
   "execution_count": 6,
   "id": "9b321559",
   "metadata": {},
   "outputs": [
    {
     "data": {
      "text/plain": [
       "0.7088791848617176"
      ]
     },
     "execution_count": 6,
     "metadata": {},
     "output_type": "execute_result"
    }
   ],
   "source": [
    "(974)/(400+974)"
   ]
  },
  {
   "cell_type": "markdown",
   "id": "356c36ba",
   "metadata": {},
   "source": [
    "This implies that 71% of individuals who cancel their order after noon opt for the promotion.\n",
    "\n",
    "We can conclude that cancellation after noon might be a beneficial feature in developing our model based on the observation that 71% of consumers who cancel their order after noon subscribe to the offer. Adding this feature to our model might increase its accuracy in predicting new subscribers."
   ]
  },
  {
   "cell_type": "markdown",
   "id": "d32a531c",
   "metadata": {},
   "source": [
    "## Feature Engineering "
   ]
  },
  {
   "cell_type": "markdown",
   "id": "97ba8def",
   "metadata": {},
   "source": [
    "When promoting Halfway There to a wider consumer base, several promotion strategies such as sales email might be considered. By checking the clients' email domains provided throughout the application process, we can tell whether they are using personal, professional, or 'junk' emails.\n",
    "\n",
    "We can assess whether clients who use personal or business emails are more likely to buy the subscription by include these elements in our study. We can use this information to help us implement an email marketing campaign for these clients. Also, if we notice potential clients receiving \"junk\" emails, it would be necessary to start a campaign on a separate platform.\n",
    "\n",
    "We can assess whether clients who use personal or business emails are more likely to buy the subscription by include these elements in our study. We can use this information to help us implement an email marketing campaign for these clients.\n",
    "\n",
    "The customer's email domain will be extracted, their emails will be divided into \"personal,\" \"professional,\" and \"junk\" categories, and a new category variable will be created. Next, we'll apply one-hot encoding to this variable to create three additional columns, one for each type of email. If the matching email category matches, an observation in these columns will have the value 1.\n"
   ]
  },
  {
   "cell_type": "code",
   "execution_count": 7,
   "id": "44007eb6",
   "metadata": {},
   "outputs": [
    {
     "data": {
      "text/html": [
       "<div>\n",
       "<style scoped>\n",
       "    .dataframe tbody tr th:only-of-type {\n",
       "        vertical-align: middle;\n",
       "    }\n",
       "\n",
       "    .dataframe tbody tr th {\n",
       "        vertical-align: top;\n",
       "    }\n",
       "\n",
       "    .dataframe thead th {\n",
       "        text-align: right;\n",
       "    }\n",
       "</style>\n",
       "<table border=\"1\" class=\"dataframe\">\n",
       "  <thead>\n",
       "    <tr style=\"text-align: right;\">\n",
       "      <th></th>\n",
       "      <th>0</th>\n",
       "      <th>1</th>\n",
       "    </tr>\n",
       "  </thead>\n",
       "  <tbody>\n",
       "    <tr>\n",
       "      <th>0</th>\n",
       "      <td>steffon.baratheon</td>\n",
       "      <td>yahoo.com</td>\n",
       "    </tr>\n",
       "    <tr>\n",
       "      <th>1</th>\n",
       "      <td>harlon.greyjoy</td>\n",
       "      <td>visa.com</td>\n",
       "    </tr>\n",
       "    <tr>\n",
       "      <th>2</th>\n",
       "      <td>monster</td>\n",
       "      <td>protonmail.com</td>\n",
       "    </tr>\n",
       "    <tr>\n",
       "      <th>3</th>\n",
       "      <td>damon.lannister.(lord)</td>\n",
       "      <td>yahoo.com</td>\n",
       "    </tr>\n",
       "    <tr>\n",
       "      <th>4</th>\n",
       "      <td>raynald.westerling</td>\n",
       "      <td>jnj.com</td>\n",
       "    </tr>\n",
       "    <tr>\n",
       "      <th>...</th>\n",
       "      <td>...</td>\n",
       "      <td>...</td>\n",
       "    </tr>\n",
       "    <tr>\n",
       "      <th>1941</th>\n",
       "      <td>wat.(barleycorn)</td>\n",
       "      <td>live.com</td>\n",
       "    </tr>\n",
       "    <tr>\n",
       "      <th>1942</th>\n",
       "      <td>hendry.bracken</td>\n",
       "      <td>exxon.com</td>\n",
       "    </tr>\n",
       "    <tr>\n",
       "      <th>1943</th>\n",
       "      <td>aenys.i.targaryen</td>\n",
       "      <td>passport.com</td>\n",
       "    </tr>\n",
       "    <tr>\n",
       "      <th>1944</th>\n",
       "      <td>leo.blackbar</td>\n",
       "      <td>pg.com</td>\n",
       "    </tr>\n",
       "    <tr>\n",
       "      <th>1945</th>\n",
       "      <td>anguy</td>\n",
       "      <td>boeing.com</td>\n",
       "    </tr>\n",
       "  </tbody>\n",
       "</table>\n",
       "<p>1946 rows × 2 columns</p>\n",
       "</div>"
      ],
      "text/plain": [
       "                           0               1\n",
       "0          steffon.baratheon       yahoo.com\n",
       "1             harlon.greyjoy        visa.com\n",
       "2                    monster  protonmail.com\n",
       "3     damon.lannister.(lord)       yahoo.com\n",
       "4         raynald.westerling         jnj.com\n",
       "...                      ...             ...\n",
       "1941        wat.(barleycorn)        live.com\n",
       "1942          hendry.bracken       exxon.com\n",
       "1943       aenys.i.targaryen    passport.com\n",
       "1944            leo.blackbar          pg.com\n",
       "1945                   anguy      boeing.com\n",
       "\n",
       "[1946 rows x 2 columns]"
      ]
     },
     "execution_count": 7,
     "metadata": {},
     "output_type": "execute_result"
    }
   ],
   "source": [
    "# STEP 1: splitting personal emails\n",
    "\n",
    "# placeholder list\n",
    "placeholder_lst = []\n",
    "\n",
    "# looping over each email address\n",
    "for index, col in cssd.iterrows():\n",
    "    \n",
    "    # splitting email domain at '@'\n",
    "    split_email = cssd.loc[index,'EMAIL'].split(sep = '@')\n",
    "    \n",
    "    # appending placeholder_lst with the results\n",
    "    placeholder_lst.append(split_email)\n",
    "    \n",
    "\n",
    "# converting placeholder_lst into a DataFrame \n",
    "email_df = pd.DataFrame(placeholder_lst)\n",
    "\n",
    "\n",
    "# displaying the results\n",
    "email_df\n",
    "\n"
   ]
  },
  {
   "cell_type": "code",
   "execution_count": 8,
   "id": "8d04fd7f",
   "metadata": {},
   "outputs": [],
   "source": [
    "# STEP 2: concatenating with original DataFrame\n",
    "\n",
    "# making multiple concatenations\n",
    "\n",
    "\n",
    "# renaming column to concatenate\n",
    "email_df.columns = ['0' ,'type_email_domain']\n",
    "\n",
    "\n",
    "# concatenating email_domain with apprentice DataFrame\n",
    "cssd = pd.concat([cssd, email_df['type_email_domain']],\n",
    "                        axis = 1)\n",
    "\n",
    "\n",
    "# printing value counts for each email_domain\n",
    "cssd.loc[: ,'type_email_domain'].value_counts()\n",
    "\n",
    "# clasifying the email domain types between professional, personal and junk:\n",
    "Professional_email_domains  = ['@mmm.com','@amex.com','@apple.com','@boeing.com',\n",
    "                               '@caterpillar.com','@chevron.com','@cisco.com','@cocacola.com',\n",
    "                               '@disney.com','@dupont.com','@exxon.com','@ge.org','@goldmansacs.com',\n",
    "                               '@homedepot.com','@ibm.com','@intel.com','@jnj.com','@jpmorgan.com',\n",
    "                               '@mcdonalds.com','@merck.com','@microsoft.com','@nike.com','@pfizer.com',\n",
    "                               '@pg.com','@travelers.com','@unitedtech.com','@unitedhealth.com',\n",
    "                               '@verizon.com','@visa.com','@walmart.com']\n",
    "\n",
    "personal_email_domains      = ['@gmail.com','@yahoo.com','@protonmail.com']\n",
    "\n",
    "Junk                        = ['@me.com','@aol.com','@hotmail.com','@live.com','@msn.com','@passport.com']\n",
    "\n",
    "# creating the list for professional, personal and junk:\n",
    "# placeholder list\n",
    "placeholder_lst = []\n",
    "\n",
    "\n",
    "# looping to group observations by domain type\n",
    "for domain in cssd['type_email_domain']:        \n",
    "\n",
    "    if '@' + domain in Professional_email_domains:\n",
    "        placeholder_lst.append('Professional')\n",
    "        \n",
    "    elif '@' + domain in personal_email_domains:\n",
    "        placeholder_lst.append('Personal')\n",
    " \n",
    "    elif '@' + domain in Junk:\n",
    "        placeholder_lst.append('Junk')\n",
    "\n",
    "    else:\n",
    "        print('unknown')\n",
    "\n",
    "\n",
    "# concatenating new list with original DataFrame\n",
    "cssd['domain_group'] = pd.Series(placeholder_lst)\n",
    "\n",
    "\n",
    "# checking results \n",
    "cssd['domain_group'].value_counts()\n",
    "\n",
    "\n",
    "# one hot encoding categorical variables\n",
    "one_EMAIL    = pd.get_dummies(cssd['domain_group'])\n",
    "\n",
    "# dropping categorical variables after they've been encoded\n",
    "cssd = cssd.drop('domain_group', axis = 1) # dropping even though not encoded\n",
    "\n",
    "\n",
    "# joining codings together\n",
    "cssd = cssd.join([one_EMAIL])\n",
    "\n",
    "\n",
    "# saving new columns in the database\n",
    "new_columns = cssd.columns"
   ]
  },
  {
   "cell_type": "code",
   "execution_count": 9,
   "id": "ee840f58",
   "metadata": {},
   "outputs": [],
   "source": [
    "cssd['TOTAL_LOGINS'] = cssd['PC_LOGINS'] + cssd['MOBILE_LOGINS']"
   ]
  },
  {
   "cell_type": "markdown",
   "id": "6c5a1a5b",
   "metadata": {},
   "source": [
    "We will make graphs for both interval and continuous variables to better understand the distribution of our data and spot any outliers. These graphs will help us see how the data is distributed and look for any trends or irregularities. We can learn about possible flaws or problems with the data and understand how these outliers might affect our study by recognizing them and their distribution. \n",
    "\n",
    "An important stage in guaranteeing the precision and dependability of our findings is the process of charting and evaluating the distribution of our data. We can decide how to move on with our analysis and deal with any potential problems if we have a clear grasp of how our data are distributed."
   ]
  },
  {
   "cell_type": "code",
   "execution_count": 10,
   "id": "57453b1d",
   "metadata": {},
   "outputs": [
    {
     "name": "stderr",
     "output_type": "stream",
     "text": [
      "C:\\Users\\Kevin Kabore\\anaconda3\\lib\\site-packages\\seaborn\\distributions.py:2619: FutureWarning: `distplot` is a deprecated function and will be removed in a future version. Please adapt your code to use either `displot` (a figure-level function with similar flexibility) or `histplot` (an axes-level function for histograms).\n",
      "  warnings.warn(msg, FutureWarning)\n"
     ]
    },
    {
     "data": {
      "image/png": "[encoded data removed]",
      "text/plain": [
       "<Figure size 640x480 with 1 Axes>"
      ]
     },
     "metadata": {},
     "output_type": "display_data"
    },
    {
     "data": {
      "image/png": "[encoded data removed]",
      "text/plain": [
       "<Figure size 640x480 with 1 Axes>"
      ]
     },
     "metadata": {},
     "output_type": "display_data"
    },
    {
     "data": {
      "image/png": "[encoded data removed]",
      "text/plain": [
       "<Figure size 640x480 with 1 Axes>"
      ]
     },
     "metadata": {},
     "output_type": "display_data"
    },
    {
     "data": {
      "image/png": "[encoded data removed]",
      "text/plain": [
       "<Figure size 640x480 with 1 Axes>"
      ]
     },
     "metadata": {},
     "output_type": "display_data"
    },
    {
     "data": {
      "image/png": "[encoded data removed]",
      "text/plain": [
       "<Figure size 640x480 with 1 Axes>"
      ]
     },
     "metadata": {},
     "output_type": "display_data"
    },
    {
     "data": {
      "image/png": "[encoded data removed]",
      "text/plain": [
       "<Figure size 640x480 with 1 Axes>"
      ]
     },
     "metadata": {},
     "output_type": "display_data"
    },
    {
     "data": {
      "image/png": "[encoded data removed]",
      "text/plain": [
       "<Figure size 640x480 with 1 Axes>"
      ]
     },
     "metadata": {},
     "output_type": "display_data"
    },
    {
     "data": {
      "image/png": "[encoded data removed]",
      "text/plain": [
       "<Figure size 640x480 with 1 Axes>"
      ]
     },
     "metadata": {},
     "output_type": "display_data"
    },
    {
     "data": {
      "image/png": "[encoded data removed]",
      "text/plain": [
       "<Figure size 640x480 with 1 Axes>"
      ]
     },
     "metadata": {},
     "output_type": "display_data"
    },
    {
     "data": {
      "image/png": "[encoded data removed]",
      "text/plain": [
       "<Figure size 640x480 with 1 Axes>"
      ]
     },
     "metadata": {},
     "output_type": "display_data"
    },
    {
     "data": {
      "image/png": "[encoded data removed]",
      "text/plain": [
       "<Figure size 640x480 with 1 Axes>"
      ]
     },
     "metadata": {},
     "output_type": "display_data"
    },
    {
     "data": {
      "image/png": "[encoded data removed]",
      "text/plain": [
       "<Figure size 640x480 with 1 Axes>"
      ]
     },
     "metadata": {},
     "output_type": "display_data"
    },
    {
     "data": {
      "image/png": "[encoded data removed]",
      "text/plain": [
       "<Figure size 640x480 with 1 Axes>"
      ]
     },
     "metadata": {},
     "output_type": "display_data"
    },
    {
     "data": {
      "image/png": "[encoded data removed]",
      "text/plain": [
       "<Figure size 640x480 with 1 Axes>"
      ]
     },
     "metadata": {},
     "output_type": "display_data"
    },
    {
     "data": {
      "image/png": "[encoded data removed]",
      "text/plain": [
       "<Figure size 640x480 with 1 Axes>"
      ]
     },
     "metadata": {},
     "output_type": "display_data"
    }
   ],
   "source": [
    "for variable in continuous + interval:\n",
    "    distributions(variable, cssd, bins = 'fd', kde = True, rug = False)"
   ]
  },
  {
   "cell_type": "markdown",
   "id": "98efa4c5",
   "metadata": {},
   "source": [
    "## Correlation"
   ]
  },
  {
   "cell_type": "code",
   "execution_count": 11,
   "id": "459e7773",
   "metadata": {},
   "outputs": [
    {
     "data": {
      "text/plain": [
       "CROSS_SELL_SUCCESS             1.00\n",
       "Professional                   0.19\n",
       "CANCELLATIONS_AFTER_NOON       0.14\n",
       "TOTAL_LOGINS                   0.07\n",
       "MOBILE_LOGINS                  0.06\n",
       "UNIQUE_MEALS_PURCH             0.04\n",
       "PC_LOGINS                      0.04\n",
       "Personal                       0.04\n",
       "AVG_TIME_PER_SITE_VISIT        0.03\n",
       "LATE_DELIVERIES                0.02\n",
       "LARGEST_ORDER_SIZE             0.02\n",
       "AVG_PREP_VID_TIME              0.01\n",
       "TOTAL_PHOTOS_VIEWED            0.01\n",
       "TOTAL_MEALS_ORDERED            0.01\n",
       "CONTACTS_W_CUSTOMER_SERVICE   -0.00\n",
       "PRODUCT_CATEGORIES_VIEWED      0.00\n",
       "REVENUE                        0.00\n",
       "WEEKLY_PLAN                   -0.01\n",
       "AVG_MEAN_RATING               -0.04\n",
       "Junk                          -0.28\n",
       "Name: CROSS_SELL_SUCCESS, dtype: float64"
      ]
     },
     "execution_count": 11,
     "metadata": {},
     "output_type": "execute_result"
    }
   ],
   "source": [
    "#building correlation of my \n",
    "cssd_corr = cssd.corr().round(2)\n",
    "\n",
    "cssd_corr['CROSS_SELL_SUCCESS'].sort_values(ascending = False)"
   ]
  },
  {
   "cell_type": "markdown",
   "id": "c63cf71e",
   "metadata": {},
   "source": [
    "We can observe from the correlation coefficients that a number of variables positively correlate with CROSS SELL SUCCESS. These variables are Personal (0.04), Unique Meals Purch (0.04), PC Logins (0.04), Professional (0.19), Cancelations After Noon (0.14), Mobile Logins (0.06), and AVG TIME PER SITE VISIT (0.04). (0.03).\n",
    "\n",
    "On the other side, a few factors, including AVG MEAN RATING (-0.04), WEEKLY PLAN (-0.01), and CONTACTS W CUSTOMER SERVICE (-0.02), had a negative link with CROSS SELL SUCCESS (-0.00).\n",
    "\n",
    "It is significant to note that there is a negative (-0.28) connection between the variable \"Junk\" and \"CROSS SELL SUCCESS,\" suggesting that customers who use \"junk\" email addresses are less likely to sign up for the campaign. This can be the result of these clients' lower email engagement or general disinterest in promotional offers."
   ]
  },
  {
   "cell_type": "code",
   "execution_count": 12,
   "id": "7e4f98d8",
   "metadata": {},
   "outputs": [
    {
     "data": {
      "text/plain": [
       "1    0.68\n",
       "0    0.32\n",
       "Name: CROSS_SELL_SUCCESS, dtype: float64"
      ]
     },
     "execution_count": 12,
     "metadata": {},
     "output_type": "execute_result"
    }
   ],
   "source": [
    "cssd.loc[ : ,'CROSS_SELL_SUCCESS'].value_counts(normalize = True).round(decimals = 2)"
   ]
  },
  {
   "cell_type": "code",
   "execution_count": 14,
   "id": "0461b981",
   "metadata": {},
   "outputs": [],
   "source": [
    "# declaring explanatory variables\n",
    "cssd_data1 = cssd.drop('CROSS_SELL_SUCCESS', axis = 1)\n",
    "\n",
    "\n",
    "# declaring response variable\n",
    "cssd_target = cssd.loc[ : , 'CROSS_SELL_SUCCESS']"
   ]
  },
  {
   "cell_type": "code",
   "execution_count": 15,
   "id": "d8648b51",
   "metadata": {},
   "outputs": [],
   "source": [
    "# train-test split with stratification\n",
    "x_train, x_test, y_train, y_test = train_test_split(\n",
    "            cssd_data1,\n",
    "            cssd_target,\n",
    "            test_size    = 0.25,\n",
    "            random_state = 219,\n",
    "            stratify     = cssd_target) # preserving balance\n",
    "\n",
    "\n",
    "# merging training data for statsmodels\n",
    "cssd_train = pd.concat([x_train, y_train], axis = 1)"
   ]
  },
  {
   "cell_type": "code",
   "execution_count": 16,
   "id": "a138dcc4",
   "metadata": {},
   "outputs": [
    {
     "name": "stdout",
     "output_type": "stream",
     "text": [
      "\n",
      "\n",
      "Response Variable Proportions (Training Set)\n",
      "--------------------------------------------\n",
      "1    0.68\n",
      "0    0.32\n",
      "Name: CROSS_SELL_SUCCESS, dtype: float64\n",
      "\n",
      "\n",
      "\n",
      "Response Variable Proportions (Testing Set)\n",
      "--------------------------------------------\n",
      "1    0.68\n",
      "0    0.32\n",
      "Name: CROSS_SELL_SUCCESS, dtype: float64\n",
      "\n"
     ]
    }
   ],
   "source": [
    "print(f\"\"\"\n",
    "\n",
    "Response Variable Proportions (Training Set)\n",
    "--------------------------------------------\n",
    "{y_train.value_counts(normalize = True).round(decimals = 2)}\n",
    "\n",
    "\n",
    "\n",
    "Response Variable Proportions (Testing Set)\n",
    "--------------------------------------------\n",
    "{y_test.value_counts(normalize = True).round(decimals = 2)}\n",
    "\"\"\")"
   ]
  },
  {
   "cell_type": "code",
   "execution_count": 17,
   "id": "b04b3899",
   "metadata": {},
   "outputs": [
    {
     "name": "stdout",
     "output_type": "stream",
     "text": [
      "Optimization terminated successfully.\n",
      "         Current function value: 0.571774\n",
      "         Iterations 5\n"
     ]
    },
    {
     "data": {
      "text/html": [
       "<table class=\"simpletable\">\n",
       "<tr>\n",
       "        <td>Model:</td>               <td>Logit</td>       <td>Pseudo R-squared:</td>    <td>0.089</td>  \n",
       "</tr>\n",
       "<tr>\n",
       "  <td>Dependent Variable:</td> <td>CROSS_SELL_SUCCESS</td>       <td>AIC:</td>         <td>1680.4354</td>\n",
       "</tr>\n",
       "<tr>\n",
       "         <td>Date:</td>         <td>2023-03-03 17:34</td>        <td>BIC:</td>         <td>1712.1485</td>\n",
       "</tr>\n",
       "<tr>\n",
       "   <td>No. Observations:</td>         <td>1459</td>         <td>Log-Likelihood:</td>    <td>-834.22</td> \n",
       "</tr>\n",
       "<tr>\n",
       "       <td>Df Model:</td>               <td>5</td>             <td>LL-Null:</td>        <td>-916.19</td> \n",
       "</tr>\n",
       "<tr>\n",
       "     <td>Df Residuals:</td>           <td>1453</td>          <td>LLR p-value:</td>    <td>1.4230e-33</td>\n",
       "</tr>\n",
       "<tr>\n",
       "      <td>Converged:</td>            <td>1.0000</td>            <td>Scale:</td>         <td>1.0000</td>  \n",
       "</tr>\n",
       "<tr>\n",
       "    <td>No. Iterations:</td>         <td>5.0000</td>               <td></td>               <td></td>     \n",
       "</tr>\n",
       "</table>\n",
       "<table class=\"simpletable\">\n",
       "<tr>\n",
       "              <td></td>              <th>Coef.</th>  <th>Std.Err.</th>    <th>z</th>     <th>P>|z|</th> <th>[0.025</th>  <th>0.975]</th> \n",
       "</tr>\n",
       "<tr>\n",
       "  <th>Intercept</th>                <td>-0.3250</td>  <td>0.2640</td>  <td>-1.2311</td> <td>0.2183</td> <td>-0.8425</td> <td>0.1924</td> \n",
       "</tr>\n",
       "<tr>\n",
       "  <th>UNIQUE_MEALS_PURCH</th>       <td>0.0541</td>   <td>0.0261</td>  <td>2.0765</td>  <td>0.0378</td> <td>0.0030</td>  <td>0.1052</td> \n",
       "</tr>\n",
       "<tr>\n",
       "  <th>CANCELLATIONS_AFTER_NOON</th> <td>0.2140</td>   <td>0.0409</td>  <td>5.2291</td>  <td>0.0000</td> <td>0.1338</td>  <td>0.2943</td> \n",
       "</tr>\n",
       "<tr>\n",
       "  <th>Professional</th>             <td>0.4580</td>   <td>0.1396</td>  <td>3.2806</td>  <td>0.0010</td> <td>0.1844</td>  <td>0.7316</td> \n",
       "</tr>\n",
       "<tr>\n",
       "  <th>Junk</th>                     <td>-1.2612</td>  <td>0.1508</td>  <td>-8.3636</td> <td>0.0000</td> <td>-1.5568</td> <td>-0.9657</td>\n",
       "</tr>\n",
       "<tr>\n",
       "  <th>MOBILE_LOGINS</th>            <td>0.3517</td>   <td>0.1133</td>  <td>3.1037</td>  <td>0.0019</td> <td>0.1296</td>  <td>0.5738</td> \n",
       "</tr>\n",
       "</table>"
      ],
      "text/plain": [
       "<class 'statsmodels.iolib.summary2.Summary'>\n",
       "\"\"\"\n",
       "                             Results: Logit\n",
       "========================================================================\n",
       "Model:                 Logit               Pseudo R-squared:  0.089     \n",
       "Dependent Variable:    CROSS_SELL_SUCCESS  AIC:               1680.4354 \n",
       "Date:                  2023-03-03 17:34    BIC:               1712.1485 \n",
       "No. Observations:      1459                Log-Likelihood:    -834.22   \n",
       "Df Model:              5                   LL-Null:           -916.19   \n",
       "Df Residuals:          1453                LLR p-value:       1.4230e-33\n",
       "Converged:             1.0000              Scale:             1.0000    \n",
       "No. Iterations:        5.0000                                           \n",
       "------------------------------------------------------------------------\n",
       "                          Coef.  Std.Err.    z    P>|z|   [0.025  0.975]\n",
       "------------------------------------------------------------------------\n",
       "Intercept                -0.3250   0.2640 -1.2311 0.2183 -0.8425  0.1924\n",
       "UNIQUE_MEALS_PURCH        0.0541   0.0261  2.0765 0.0378  0.0030  0.1052\n",
       "CANCELLATIONS_AFTER_NOON  0.2140   0.0409  5.2291 0.0000  0.1338  0.2943\n",
       "Professional              0.4580   0.1396  3.2806 0.0010  0.1844  0.7316\n",
       "Junk                     -1.2612   0.1508 -8.3636 0.0000 -1.5568 -0.9657\n",
       "MOBILE_LOGINS             0.3517   0.1133  3.1037 0.0019  0.1296  0.5738\n",
       "========================================================================\n",
       "\n",
       "\"\"\""
      ]
     },
     "execution_count": 17,
     "metadata": {},
     "output_type": "execute_result"
    }
   ],
   "source": [
    "#  logistic regression model variable selection\n",
    "logistic_small = smf.logit(formula = \"\"\"CROSS_SELL_SUCCESS ~  UNIQUE_MEALS_PURCH +                                                       \n",
    "                                                             CANCELLATIONS_AFTER_NOON +                                                        \n",
    "                                                             Professional +\n",
    "                                                             Junk + \n",
    "                                                            MOBILE_LOGINS                                                           \n",
    "                                                            \"\"\", data    = cssd_train)\n",
    "\n",
    "\n",
    "# fitting our model\n",
    "results_logistic = logistic_small.fit()\n",
    "\n",
    "\n",
    "# display the result summary\n",
    "results_logistic.summary2() # summary2() has AIC and BIC"
   ]
  },
  {
   "cell_type": "code",
   "execution_count": 18,
   "id": "12c0a0fc",
   "metadata": {},
   "outputs": [],
   "source": [
    "# explanatory sets from last session\n",
    "\n",
    "# creating a dictionary to store candidate models\n",
    "\n",
    "candidate_dict = {\n",
    "\n",
    " # full model\n",
    " 'logit_full'   : ['REVENUE', 'TOTAL_MEALS_ORDERED', 'UNIQUE_MEALS_PURCH', 'CONTACTS_W_CUSTOMER_SERVICE',\n",
    "                   'PRODUCT_CATEGORIES_VIEWED', 'AVG_TIME_PER_SITE_VISIT', \n",
    "                   'CANCELLATIONS_AFTER_NOON', 'PC_LOGINS', 'MOBILE_LOGINS',\n",
    "                   'WEEKLY_PLAN', 'LATE_DELIVERIES', 'AVG_PREP_VID_TIME', 'LARGEST_ORDER_SIZE',\n",
    "                   'AVG_MEAN_RATING', 'TOTAL_PHOTOS_VIEWED' ],\n",
    " \n",
    "\n",
    " # logit sig variable with p value < 0.05\n",
    " 'logit_sig'    : ['UNIQUE_MEALS_PURCH', 'CANCELLATIONS_AFTER_NOON', 'MOBILE_LOGINS', 'Junk', 'Professional']\n",
    "    \n",
    "}"
   ]
  },
  {
   "cell_type": "markdown",
   "id": "43155343",
   "metadata": {},
   "source": [
    "Based on the findings of a logistic regression model, which excludes variables with high p-values, the significant variables are chosen. In this example, the outcome variable is \"CROSS SELL SUCCESS,\" and these factors are thought to be less important to the model and maybe to prediction.\n",
    "\n",
    "As a result, the 'logit_sig' model, which only takes into account the most important factors, might be a more efficient model for predicting 'CROSS SELL SUCCESS'."
   ]
  },
  {
   "cell_type": "code",
   "execution_count": 19,
   "id": "d5f35bb2",
   "metadata": {},
   "outputs": [
    {
     "name": "stdout",
     "output_type": "stream",
     "text": [
      "\n",
      "/--------------------------\\\n",
      "|Explanatory Variable Sets |\n",
      "\\--------------------------/\n",
      "\n",
      "Full Model:\n",
      "-----------\n",
      "['REVENUE', 'TOTAL_MEALS_ORDERED', 'UNIQUE_MEALS_PURCH', 'CONTACTS_W_CUSTOMER_SERVICE', 'PRODUCT_CATEGORIES_VIEWED', 'AVG_TIME_PER_SITE_VISIT', 'CANCELLATIONS_AFTER_NOON', 'PC_LOGINS', 'MOBILE_LOGINS', 'WEEKLY_PLAN', 'LATE_DELIVERIES', 'AVG_PREP_VID_TIME', 'LARGEST_ORDER_SIZE', 'AVG_MEAN_RATING', 'TOTAL_PHOTOS_VIEWED']\n",
      "\n",
      "\n",
      "First Significant p-value Model:\n",
      "--------------------------------\n",
      "['UNIQUE_MEALS_PURCH', 'CANCELLATIONS_AFTER_NOON', 'MOBILE_LOGINS', 'Junk', 'Professional']\n",
      "\n",
      "\n"
     ]
    }
   ],
   "source": [
    "# printing candidate variable sets\n",
    "print(f\"\"\"\n",
    "/--------------------------\\\\\n",
    "|Explanatory Variable Sets |\n",
    "\\\\--------------------------/\n",
    "\n",
    "Full Model:\n",
    "-----------\n",
    "{candidate_dict['logit_full']}\n",
    "\n",
    "\n",
    "First Significant p-value Model:\n",
    "--------------------------------\n",
    "{candidate_dict['logit_sig']}\n",
    "\n",
    "\"\"\")"
   ]
  },
  {
   "cell_type": "markdown",
   "id": "82728f23",
   "metadata": {},
   "source": [
    "## Building models"
   ]
  },
  {
   "cell_type": "markdown",
   "id": "b88f86c1",
   "metadata": {},
   "source": [
    "### Logistic Regression"
   ]
  },
  {
   "cell_type": "code",
   "execution_count": 45,
   "id": "cfae0984",
   "metadata": {},
   "outputs": [
    {
     "name": "stdout",
     "output_type": "stream",
     "text": [
      "\n",
      "True Negatives : 53\n",
      "False Positives: 103\n",
      "False Negatives: 32\n",
      "True Positives : 299\n",
      "\n",
      "LogReg Training ACCURACY: 0.7265\n",
      "LogReg Testing  ACCURACY: 0.7228\n",
      "AUC SCORE: 0.6215\n",
      "LogReg Train-Test Gap   : 0.0037\n"
     ]
    }
   ],
   "source": [
    "# train/test split with the full model\n",
    "cssd_data   =  cssd.loc[ : , candidate_dict['logit_sig']]\n",
    "cssd_target =  cssd.loc[ : , 'CROSS_SELL_SUCCESS']\n",
    "\n",
    "\n",
    "# this is the exact code we were using before\n",
    "x_train, x_test, y_train, y_test = train_test_split(\n",
    "            cssd_data,\n",
    "            cssd_target,\n",
    "            random_state = 219,\n",
    "            test_size    = 0.25,\n",
    "           stratify     = cssd_target)\n",
    "\n",
    "\n",
    "# INSTANTIATING a logistic regression model\n",
    "logreg = LogisticRegression(solver = 'lbfgs',\n",
    "                            C = 1,\n",
    "                            random_state = 219)\n",
    "\n",
    "\n",
    "# FITTING the training data\n",
    "logreg_fit = logreg.fit(x_train, y_train)\n",
    "\n",
    "\n",
    "# PREDICTING based on the testing set\n",
    "logreg_pred = logreg_fit.predict(x_test)\n",
    "\n",
    "# unpacking the confusion matrix\n",
    "logreg_tn, \\\n",
    "logreg_fp, \\\n",
    "logreg_fn, \\\n",
    "logreg_tp = confusion_matrix(y_true = y_test, y_pred = logreg_pred).ravel()\n",
    "\n",
    "\n",
    "\n",
    "# printing confusion matrix\n",
    "print(f\"\"\"\n",
    "True Negatives : {logreg_tn}\n",
    "False Positives: {logreg_fp}\n",
    "False Negatives: {logreg_fn}\n",
    "True Positives : {logreg_tp}\n",
    "\"\"\")\n",
    "\n",
    "# saving AUC score for future use\n",
    "logreg_auc_score = roc_auc_score(y_true  = y_test,\n",
    "                                 y_score = logreg_pred).round(decimals = 4)\n",
    "\n",
    "# printing the results\n",
    "print('LogReg Training ACCURACY:', logreg_fit.score(x_train, y_train).round(4))\n",
    "print('LogReg Testing  ACCURACY:', logreg_fit.score(x_test, y_test).round(4))\n",
    "print('AUC SCORE:', logreg_auc_score)\n",
    "\n",
    "\n",
    "# saving scoring data for future use\n",
    "logreg_train_score = logreg_fit.score(x_train, y_train).round(4) # accuracy\n",
    "logreg_test_score  = logreg_fit.score(x_test, y_test).round(4)   # accuracy\n",
    "\n",
    "\n",
    "\n",
    "# displaying and saving the gap between training and testing\n",
    "print('LogReg Train-Test Gap   :', abs(logreg_train_score - logreg_test_score).round(4))\n",
    "logreg_test_gap = abs(logreg_train_score - logreg_test_score).round(4)"
   ]
  },
  {
   "cell_type": "markdown",
   "id": "112301dd",
   "metadata": {},
   "source": [
    "The significant variables from the dataset were used to train and test the logistic regression model. The model's accuracy score on the test data was 72.28%, which shows that it can accurately predict the value of the target variable.\n",
    "\n",
    "The 32 false negatives and 103 false positives predicted during testing show that the model's performance is imperfect. False negatives are situations where a client actually subscribed to the promotion despite the model's prediction that they wouldn't. False positives, on the other side, describe situations where a consumer was expected to subscribe but ultimately did not."
   ]
  },
  {
   "cell_type": "markdown",
   "id": "6e27d1dc",
   "metadata": {},
   "source": [
    "### Decision Tree Classifier"
   ]
  },
  {
   "cell_type": "code",
   "execution_count": null,
   "id": "084560f6",
   "metadata": {},
   "outputs": [],
   "source": [
    "help(DecisionTreeClassifier)"
   ]
  },
  {
   "cell_type": "code",
   "execution_count": 43,
   "id": "e211834b",
   "metadata": {},
   "outputs": [
    {
     "name": "stdout",
     "output_type": "stream",
     "text": [
      "\n",
      "True Negatives : 53\n",
      "False Positives: 103\n",
      "False Negatives: 32\n",
      "True Positives : 299\n",
      "\n",
      "Full Tree Training ACCURACY: 0.7252\n",
      "Full Tree Testing ACCURACY : 0.7207\n",
      "Full Tree Gap: 0.0045\n",
      "Full Tree AUC Score: 0.6336\n"
     ]
    }
   ],
   "source": [
    "# INSTANTIATING a classification tree object\n",
    "full_tree = DecisionTreeClassifier( min_samples_split = 10, min_samples_leaf = 50, random_state = 219)\n",
    "\n",
    "\n",
    "# FITTING the training data\n",
    "full_tree_fit = full_tree.fit(x_train, y_train)\n",
    "\n",
    "\n",
    "# PREDICTING on new data\n",
    "full_tree_pred = full_tree_fit.predict(x_test)\n",
    "\n",
    "\n",
    "\n",
    "\n",
    "# saving scoring data for future use\n",
    "full_tree_train_score = full_tree_fit.score(x_train, y_train).round(4) # accuracy\n",
    "full_tree_test_score  = full_tree_fit.score(x_test, y_test).round(4)   # accuracy\n",
    "full_tree_gap = abs(full_tree_train_score - full_tree_test_score).round(4)\n",
    "\n",
    "\n",
    "# saving AUC\n",
    "full_tree_auc_score   = roc_auc_score(y_true  = y_test,\n",
    "                                      y_score = full_tree_pred).round(4) # auc\n",
    "\n",
    "\n",
    "# unpacking the confusion matrix\n",
    "full_tree_tn, \\\n",
    "full_tree_fp, \\\n",
    "full_tree_fn, \\\n",
    "full_tree_tp = confusion_matrix(y_true = y_test, y_pred = logreg_pred).ravel()\n",
    "\n",
    "\n",
    "# printing confusion matrix\n",
    "print(f\"\"\"\n",
    "True Negatives : {full_tree_tn}\n",
    "False Positives: {full_tree_fp}\n",
    "False Negatives: {full_tree_fn}\n",
    "True Positives : {full_tree_tp}\n",
    "\"\"\")\n",
    "\n",
    "\n",
    "# printing the model result\n",
    "print('Full Tree Training ACCURACY:', full_tree_fit.score(x_train,\n",
    "                                                     y_train).round(4))\n",
    "\n",
    "print('Full Tree Testing ACCURACY :', full_tree_fit.score(x_test,\n",
    "                                                     y_test).round(4))\n",
    "print('Full Tree Gap:', full_tree_gap )\n",
    "\n",
    "print('Full Tree AUC Score:', roc_auc_score(y_true  = y_test,\n",
    "                                            y_score = full_tree_pred).round(4))"
   ]
  },
  {
   "cell_type": "markdown",
   "id": "179dc6c6",
   "metadata": {},
   "source": [
    "The accuracy of the model on the training data is 0.7252, which means that the model correctly predicted the outcome for 72.52% of the training cases. The accuracy of the model on the testing data is 0.7207, which means that the model correctly predicted the outcome for 72.07% of the testing cases. There is a small gap of 0.0045 between the training and testing accuracies, which indicates that the model is not overfitting or underfitting."
   ]
  },
  {
   "cell_type": "code",
   "execution_count": 30,
   "id": "774c2d88",
   "metadata": {},
   "outputs": [
    {
     "name": "stdout",
     "output_type": "stream",
     "text": [
      "Tuned Parameters  : {'splitter': 'best', 'min_samples_leaf': 100, 'max_features': 'log2', 'max_depth': 7, 'criterion': 'entropy'}\n",
      "Tuned Training AUC: 0.6822\n"
     ]
    }
   ],
   "source": [
    "from sklearn.model_selection import RandomizedSearchCV # hyperparameter tuning\n",
    "# declaring a hyperparameter space\n",
    "criterion_range = [\"gini\", \"entropy\"]\n",
    "splitter_range  = [\"best\", \"random\"]\n",
    "depth_range     = np.arange(1, 9, 1)\n",
    "min_samples_leaf    = np.arange(1, 1000, 1)\n",
    "max_features = [\"auto\", \"sqrt\", \"log2\"]\n",
    "\n",
    "\n",
    "# creating a hyperparameter grid\n",
    "param_grid = {'criterion'        : criterion_range,\n",
    "              'splitter'         : splitter_range,\n",
    "              'max_depth'        : depth_range,\n",
    "              'min_samples_leaf' : min_samples_leaf,\n",
    "              'max_features': max_features\n",
    "             }\n",
    "\n",
    "\n",
    "# INSTANTIATING the model object without hyperparameters\n",
    "tuned_tree = DecisionTreeClassifier(random_state = 219)\n",
    "\n",
    "\n",
    "# RandomizedSearchCV object\n",
    "tuned_tree_cv = RandomizedSearchCV(estimator             = tuned_tree,\n",
    "                                   param_distributions   = param_grid,\n",
    "                                   cv                    = 5,\n",
    "                                   n_iter                = 1000,\n",
    "                                   random_state          = 219,\n",
    "                                   scoring = 'roc_auc')\n",
    "\n",
    "\n",
    "# FITTING to the FULL DATASET (due to cross-validation)\n",
    "tuned_tree_cv.fit(cssd_data, cssd_target)\n",
    "\n",
    "\n",
    "# printing the optimal parameters and best score\n",
    "print(\"Tuned Parameters  :\", tuned_tree_cv.best_params_)\n",
    "print(\"Tuned Training AUC:\", tuned_tree_cv.best_score_.round(4))"
   ]
  },
  {
   "cell_type": "code",
   "execution_count": 49,
   "id": "8daf0321",
   "metadata": {},
   "outputs": [
    {
     "name": "stdout",
     "output_type": "stream",
     "text": [
      "FINAL MODEL\n",
      "\n",
      "True Negatives : 53\n",
      "False Positives: 103\n",
      "False Negatives: 32\n",
      "True Positives : 299\n",
      "\n",
      "Full Tree Training ACCURACY: 0.7252\n",
      "Full Tree Testing ACCURACY : 0.7207\n",
      "Full Tree Gap: 0.0045\n",
      "Full Tree AUC Score: 0.6336\n"
     ]
    }
   ],
   "source": [
    "# INSTANTIATING a classification tree object\n",
    "full_tree = tuned_tree_cv.best_params_\n",
    "\n",
    "# PREDICTING on new data\n",
    "full_tree_pred = full_tree_fit.predict(x_test)\n",
    "\n",
    "\n",
    "\n",
    "\n",
    "# saving scoring data for future use\n",
    "full_tree_train_score = full_tree_fit.score(x_train, y_train).round(4) # accuracy\n",
    "full_tree_test_score  = full_tree_fit.score(x_test, y_test).round(4)   # accuracy\n",
    "full_tree_gap = abs(full_tree_train_score - full_tree_test_score).round(4)\n",
    "\n",
    "\n",
    "# saving AUC\n",
    "full_tree_auc_score   = roc_auc_score(y_true  = y_test,\n",
    "                                      y_score = full_tree_pred).round(4) # auc\n",
    "\n",
    "\n",
    "# unpacking the confusion matrix\n",
    "full_tree_tn, \\\n",
    "full_tree_fp, \\\n",
    "full_tree_fn, \\\n",
    "full_tree_tp = confusion_matrix(y_true = y_test, y_pred = logreg_pred).ravel()\n",
    "\n",
    "print(\"\"\"FINAL MODEL\"\"\")\n",
    "# printing each result one-by-one\n",
    "print(f\"\"\"\n",
    "True Negatives : {full_tree_tn}\n",
    "False Positives: {full_tree_fp}\n",
    "False Negatives: {full_tree_fn}\n",
    "True Positives : {full_tree_tp}\n",
    "\"\"\")\n",
    "\n",
    "\n",
    "# SCORING the model\n",
    "print('Full Tree Training ACCURACY:', full_tree_fit.score(x_train,\n",
    "                                                     y_train).round(4))\n",
    "\n",
    "print('Full Tree Testing ACCURACY :', full_tree_fit.score(x_test,\n",
    "                                                     y_test).round(4))\n",
    "print('Full Tree Gap:', full_tree_gap )\n",
    "\n",
    "print('Full Tree AUC Score:', roc_auc_score(y_true  = y_test,\n",
    "                                            y_score = full_tree_pred).round(4))\n"
   ]
  },
  {
   "cell_type": "code",
   "execution_count": 47,
   "id": "4fb8fcd5",
   "metadata": {},
   "outputs": [
    {
     "data": {
      "image/png": "[encoded data removed]",
      "text/plain": [
       "<Figure size 640x480 with 2 Axes>"
      ]
     },
     "metadata": {},
     "output_type": "display_data"
    }
   ],
   "source": [
    "visual_cm(true_y = y_test,\n",
    "          pred_y = full_tree_pred,\n",
    "          labels = ['Did Not Buy Subscription', 'Bought Subscription'])"
   ]
  },
  {
   "cell_type": "markdown",
   "id": "5a0bba1e",
   "metadata": {},
   "source": [
    "The final model is a decision tree classifier that has been optimized to identify which clients are most likely to take advantage of the promotion and purchase wine. The model has been tested on fresh data after being trained on old customer data.\n",
    "\n",
    "According to the evaluation findings, the final model is 72.07% accurate overall on the testing set, which means that it accurately predicts the outcome for 72.07% of the users. The training set's accuracy is marginally higher, at 0.7252, proving that the model hasn't overfit the training set's data. The training and testing accuracies only differ by 0.0045, which indicates that the model is performing consistently on both sets of data.\n",
    "\n",
    "The model's AUC score, a well-liked performance statistic for binary classification models, assesses how well it can distinguish between positive and negative classes. The final model's AUC score is 0.6336, meaning it does a marginally better job of differentiating between clients who are more likely to accept the deal and purchase wine and those who are less likely to do so.\n",
    "\n",
    "According to the confusion matrix, the final model had 290 true positives, 95 false positives, 61 true negatives, and 41 false negatives. The number of customers who were correctly identified as being likely to accept the promotion and purchase wine is represented by the true positives, while the number of customers who were incorrectly identified as being likely to do so is represented by the false positives. The number of customers who were accurately identified as being unlikely to accept the promotion and purchase wine is represented by the true negatives, whilst the number of customers who were wrongly identified as being unlikely to do so is represented by the false negatives."
   ]
  },
  {
   "cell_type": "markdown",
   "id": "b9af332c",
   "metadata": {},
   "source": [
    "## Business Insight"
   ]
  },
  {
   "cell_type": "markdown",
   "id": "9132433b",
   "metadata": {},
   "source": [
    "I have identified some interesting  business insights based on the variables used in my predictive model.\n",
    "\n",
    "Unusual Meals Purchased: Because they have previously shown a desire to explore various flavors and cuisines, customers who purchase an unusual variety of meals may be more interested in trying new wines and promotions.\n",
    "\n",
    "An intriguing business finding is the large percentage of customers who cancel their orders after noon and who also signed up for the deal. This can imply that these clients aren't totally committed to their orders and perhaps want a little extra encouragement to finish their transactions.\n",
    "\n",
    "To resolve this problem, the business may target customers who have previously canceled orders after noon with special offers or discounts. The business might raise sales by rewarding customers for completing their orders, which would increase customer loyalty.\n",
    "\n",
    "Customers who frequently log in through mobile devices may value convenience and flexibility in their shopping experiences. This could suggest an opportunity to create a mobile app or optimize the website for mobile use to improve the customer experience and encourage repeat purchases.\n",
    "\n",
    "Customers who use a junk email domain may be less engaged with the brand and less likely to respond to promotions or other marketing efforts. This could suggest the need for targeted marketing campaigns or personalized outreach to better connect with these customers and encourage engagement.\n",
    "\n",
    "All things considered, these variables point to potential to enhance the customer experience, personalize marketing initiatives, and promote brand loyalty. By recognizing the essential traits of clients who are more certain to react favorably to promotions"
   ]
  }
 ],
 "metadata": {
  "kernelspec": {
   "display_name": "Python 3 (ipykernel)",
   "language": "python",
   "name": "python3"
  },
  "language_info": {
   "codemirror_mode": {
    "name": "ipython",
    "version": 3
   },
   "file_extension": ".py",
   "mimetype": "text/x-python",
   "name": "python",
   "nbconvert_exporter": "python",
   "pygments_lexer": "ipython3",
   "version": "3.9.13"
  },
  "toc": {
   "base_numbering": 1,
   "nav_menu": {},
   "number_sections": true,
   "sideBar": true,
   "skip_h1_title": false,
   "title_cell": "Table of Contents",
   "title_sidebar": "Contents",
   "toc_cell": false,
   "toc_position": {},
   "toc_section_display": true,
   "toc_window_display": false
  },
  "varInspector": {
   "cols": {
    "lenName": 16,
    "lenType": 16,
    "lenVar": 40
   },
   "kernels_config": {
    "python": {
     "delete_cmd_postfix": "",
     "delete_cmd_prefix": "del ",
     "library": "var_list.py",
     "varRefreshCmd": "print(var_dic_list())"
    },
    "r": {
     "delete_cmd_postfix": ") ",
     "delete_cmd_prefix": "rm(",
     "library": "var_list.r",
     "varRefreshCmd": "cat(var_dic_list()) "
    }
   },
   "types_to_exclude": [
    "module",
    "function",
    "builtin_function_or_method",
    "instance",
    "_Feature"
   ],
   "window_display": false
  }
 },
 "nbformat": 4,
 "nbformat_minor": 5
}
